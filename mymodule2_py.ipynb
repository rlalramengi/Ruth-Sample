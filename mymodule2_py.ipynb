{
  "nbformat": 4,
  "nbformat_minor": 0,
  "metadata": {
    "colab": {
      "name": "mymodule2.py",
      "provenance": []
    },
    "kernelspec": {
      "name": "python3",
      "display_name": "Python 3"
    },
    "language_info": {
      "name": "python"
    }
  },
  "cells": [
    {
      "cell_type": "code",
      "execution_count": null,
      "metadata": {
        "id": "XYtNIJnsTUM4"
      },
      "outputs": [],
      "source": [
        "def adding(a,b):\n",
        "  print(a+b)\n",
        "\n"
      ]
    },
    {
      "cell_type": "code",
      "source": [
        "def multiply(a,b):\n",
        "  print(a*b)"
      ],
      "metadata": {
        "id": "2WbICdmzT_qs"
      },
      "execution_count": null,
      "outputs": []
    }
  ]
}